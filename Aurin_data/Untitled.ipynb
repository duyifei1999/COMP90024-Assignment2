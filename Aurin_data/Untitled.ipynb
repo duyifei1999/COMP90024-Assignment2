{
 "cells": [
  {
   "cell_type": "code",
   "execution_count": 54,
   "id": "c1938bbc",
   "metadata": {},
   "outputs": [],
   "source": [
    "import pandas as pd\n",
    "import json\n",
    "import numpy as np\n",
    "df=pd.read_csv(\"melb-language.csv\")\n",
    "df = df.stack().unstack(0)\n",
    "arr = np.array(df)  # 将df转换为list对象\n",
    "list = arr.tolist()  # 将array转换为list\n",
    "df.columns = list[0]\n",
    "\n",
    "js = df.to_json(orient=\"index\",force_ascii=False)\n",
    "with open(\"AURIN_melb_language2.json\",'w',encoding='utf-8') as file:\n",
    "    file.write(js)\n"
   ]
  },
  {
   "cell_type": "code",
   "execution_count": null,
   "id": "599f7ad8",
   "metadata": {},
   "outputs": [],
   "source": []
  }
 ],
 "metadata": {
  "kernelspec": {
   "display_name": "Python 3 (ipykernel)",
   "language": "python",
   "name": "python3"
  },
  "language_info": {
   "codemirror_mode": {
    "name": "ipython",
    "version": 3
   },
   "file_extension": ".py",
   "mimetype": "text/x-python",
   "name": "python",
   "nbconvert_exporter": "python",
   "pygments_lexer": "ipython3",
   "version": "3.9.7"
  }
 },
 "nbformat": 4,
 "nbformat_minor": 5
}
